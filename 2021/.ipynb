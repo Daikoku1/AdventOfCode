{
 "cells": [
  {
   "cell_type": "code",
   "execution_count": 7,
   "metadata": {},
   "outputs": [],
   "source": [
    "from pathlib import Path\n",
    "import numpy as np\n",
    "path = Path.cwd() / 'input' / 'day23.txt'\n",
    "data = open(path).read().strip().split('\\n')"
   ]
  },
  {
   "cell_type": "code",
   "execution_count": 8,
   "metadata": {},
   "outputs": [
    {
     "data": {
      "text/plain": [
       "['#############',\n",
       " '#...........#',\n",
       " '###C#C#B#D###',\n",
       " '  #D#A#B#A#',\n",
       " '  #########']"
      ]
     },
     "execution_count": 8,
     "metadata": {},
     "output_type": "execute_result"
    }
   ],
   "source": [
    "data"
   ]
  },
  {
   "cell_type": "code",
   "execution_count": 9,
   "metadata": {},
   "outputs": [],
   "source": [
    "# Set Point index\n",
    "# [['#', '#', '#', '#', '#', '#', '#', '#', '#', '#', '#', '#', '#'],\n",
    "#  ['#',  4 ,  4 , '.',  5 , '.',  6 , '.',  7 ,  ',', 8 ,  8 , '#'],\n",
    "#  ['#', '#', '#',  0 , '#',  1 , '#',  2 , '#',  3 , '#', '#', '#'],\n",
    "#  ['#', '#', '#',  0 , '#',  1 , '#',  2 , '#',  3 , '#', '#', '#'],\n",
    "#  ['#', '#', '#', '#', '#', '#', '#', '#', '#', '#', '#', '#', '#']]"
   ]
  },
  {
   "cell_type": "code",
   "execution_count": 12,
   "metadata": {},
   "outputs": [],
   "source": [
    "roads = {\n",
    "    0 : [4,5],\n",
    "    4 : [0,5],\n",
    "    5 : [0,1,4,6],\n",
    "    1 : [5,6],\n",
    "    6 : [1,2,5,7],\n",
    "    2 : [6,7],\n",
    "    7 : [2,3,6,8],\n",
    "    3 : [7,8],\n",
    "    8 : [3,7]\n",
    "}"
   ]
  },
  {
   "cell_type": "code",
   "execution_count": 13,
   "metadata": {},
   "outputs": [
    {
     "data": {
      "text/plain": [
       "[['D', 'C'], ['A', 'C'], ['B', 'B'], ['A', 'D'], [], [], [], [], []]"
      ]
     },
     "execution_count": 13,
     "metadata": {},
     "output_type": "execute_result"
    }
   ],
   "source": [
    "amphipods = [[] for _ in range(9)]\n",
    "import re \n",
    "for idx, species in enumerate(zip(re.findall('\\w', data[3]), re.findall('\\w', data[2]))):\n",
    "    amphipods[idx] = list(species)\n",
    "amphipods"
   ]
  },
  {
   "cell_type": "code",
   "execution_count": 22,
   "metadata": {},
   "outputs": [
    {
     "data": {
      "text/plain": [
       "1"
      ]
     },
     "execution_count": 22,
     "metadata": {},
     "output_type": "execute_result"
    }
   ],
   "source": [
    "score['A']"
   ]
  },
  {
   "cell_type": "code",
   "execution_count": 32,
   "metadata": {},
   "outputs": [],
   "source": [
    "import copy\n",
    "from collections import deque\n",
    "\n",
    "score = {'A' : 1, 'B' : 10, 'C' : 100, 'D' : 1000}\n",
    "def count_energy(t, move):\n",
    "    return move * score[t]\n",
    "\n",
    "def next_step(amphipods, energy, answer):\n",
    "    next_state = []\n",
    "    to_change = [(i,v) for i, v in enumerate(amphipods) if v != []]\n",
    "    for k, v in to_change:\n",
    "        if k not in [5,6,7] and len(v) == 1 : move = 1\n",
    "        else : move = 0\n",
    "        move_target = v[-1]\n",
    "        for x in roads[k]:\n",
    "            new_amphipods = copy.deepcopy(amphipods)    \n",
    "            new_amphipods[x].append(new_amphipods[k].pop())\n",
    "            new_energy = 0\n",
    "            if x in [0,1,2,3]:\n",
    "                if len(amphipods[x]) == 0: new_energy = energy + count_energy(move_target, move+3)\n",
    "                elif len(amphipods[x]) == 1: new_energy = energy + count_energy(move_target, move+2)\n",
    "            elif x in [4,8]:\n",
    "                if len(amphipods[x]) == 0 : new_energy = energy + count_energy(move_target, move+2)\n",
    "                elif len(amphipods[x]) == 1 : new_energy = energy + count_energy(move_target, move+2) + count_energy(amphipods[x][0], 1)\n",
    "            else:\n",
    "                if len(amphipods[x]) == 0 : new_energy = energy + count_energy(move_target, move+2)\n",
    "            \n",
    "            if new_energy and new_energy < answer : next_state.append([new_amphipods, new_energy])\n",
    "    return next_state\n",
    "\n",
    "def solution(amphipods, energy):\n",
    "    answer = float('inf')\n",
    "    state = deque([[amphipods, energy]])\n",
    "    while state:\n",
    "        for _ in range(len(state)):\n",
    "            amphi, e = state.popleft()\n",
    "            for next_amphi, ne in next_step(amphipods, energy, answer):\n",
    "                if next_amphi[0]==['A','A'] and next_amphi[0]==['B','B'] and next_amphi[0]==['C','C'] and next_amphi[0]==['D','D']:\n",
    "                    answer = min(answer, ne)\n",
    "                else: state.append([next_amphi, ne])\n",
    "    return answer\n"
   ]
  },
  {
   "cell_type": "code",
   "execution_count": 33,
   "metadata": {},
   "outputs": [],
   "source": [
    "solution(amphipods, 0)"
   ]
  },
  {
   "cell_type": "code",
   "execution_count": null,
   "metadata": {},
   "outputs": [],
   "source": [
    "#############\n",
    "#......... ..#\n",
    "###C#C#B#D###\n",
    "  #D#A#B#A#\n",
    "  #########"
   ]
  },
  {
   "cell_type": "code",
   "execution_count": null,
   "metadata": {},
   "outputs": [],
   "source": [
    "#############\n",
    "#.A.......A.#\n",
    "###C#B#.#.###\n",
    "  #D#B#C#D#\n",
    "  #########"
   ]
  },
  {
   "cell_type": "code",
   "execution_count": 2,
   "metadata": {},
   "outputs": [
    {
     "data": {
      "text/plain": [
       "14721"
      ]
     },
     "execution_count": 2,
     "metadata": {},
     "output_type": "execute_result"
    }
   ],
   "source": [
    "5000 + 3+20 + 50+500 + 3+30 + 4 + 40+60 + 9000+3 + 8"
   ]
  },
  {
   "cell_type": "code",
   "execution_count": 3,
   "metadata": {},
   "outputs": [
    {
     "ename": "NameError",
     "evalue": "name 'utils' is not defined",
     "output_type": "error",
     "traceback": [
      "\u001b[1;31m---------------------------------------------------------------------------\u001b[0m",
      "\u001b[1;31mNameError\u001b[0m                                 Traceback (most recent call last)",
      "\u001b[1;32m~\\AppData\\Local\\Temp/ipykernel_3436/2473657082.py\u001b[0m in \u001b[0;36m<module>\u001b[1;34m\u001b[0m\n\u001b[0;32m    172\u001b[0m \u001b[1;33m\u001b[0m\u001b[0m\n\u001b[0;32m    173\u001b[0m \u001b[1;33m\u001b[0m\u001b[0m\n\u001b[1;32m--> 174\u001b[1;33m \u001b[0minput_data\u001b[0m \u001b[1;33m=\u001b[0m \u001b[0mutils\u001b[0m\u001b[1;33m.\u001b[0m\u001b[0mget_input\u001b[0m\u001b[1;33m(\u001b[0m\u001b[0mday\u001b[0m\u001b[1;33m=\u001b[0m\u001b[1;36m23\u001b[0m\u001b[1;33m)\u001b[0m\u001b[1;33m.\u001b[0m\u001b[0mstrip\u001b[0m\u001b[1;33m(\u001b[0m\u001b[1;33m)\u001b[0m\u001b[1;33m.\u001b[0m\u001b[0msplit\u001b[0m\u001b[1;33m(\u001b[0m\u001b[1;34m\"\\n\"\u001b[0m\u001b[1;33m)\u001b[0m\u001b[1;33m\u001b[0m\u001b[1;33m\u001b[0m\u001b[0m\n\u001b[0m\u001b[0;32m    175\u001b[0m \u001b[0mparsed\u001b[0m \u001b[1;33m=\u001b[0m \u001b[1;33m[\u001b[0m\u001b[0mrow\u001b[0m\u001b[1;33m[\u001b[0m\u001b[1;36m3\u001b[0m\u001b[1;33m:\u001b[0m\u001b[1;33m]\u001b[0m\u001b[1;33m.\u001b[0m\u001b[0mstrip\u001b[0m\u001b[1;33m(\u001b[0m\u001b[1;33m)\u001b[0m\u001b[1;33m.\u001b[0m\u001b[0msplit\u001b[0m\u001b[1;33m(\u001b[0m\u001b[1;34m\"#\"\u001b[0m\u001b[1;33m,\u001b[0m \u001b[0mmaxsplit\u001b[0m\u001b[1;33m=\u001b[0m\u001b[1;36m3\u001b[0m\u001b[1;33m)\u001b[0m \u001b[1;32mfor\u001b[0m \u001b[0mrow\u001b[0m \u001b[1;32min\u001b[0m \u001b[0minput_data\u001b[0m\u001b[1;33m[\u001b[0m\u001b[1;36m2\u001b[0m\u001b[1;33m:\u001b[0m\u001b[1;36m4\u001b[0m\u001b[1;33m]\u001b[0m\u001b[1;33m]\u001b[0m\u001b[1;33m\u001b[0m\u001b[1;33m\u001b[0m\u001b[0m\n\u001b[0;32m    176\u001b[0m \u001b[1;33m\u001b[0m\u001b[0m\n",
      "\u001b[1;31mNameError\u001b[0m: name 'utils' is not defined"
     ]
    }
   ],
   "source": [
    "TARGET_ROOM_X = [2, 4, 6, 8]\n",
    "COSTS = {\"A\": 1, \"B\": 10, \"C\": 100, \"D\": 1000}\n",
    "ROOM_MARKERS = [\"A\", \"B\", \"C\", \"D\"]\n",
    "ALLOWED_HALL_SPOTS = [0, 1, 3, 5, 7, 9, 10]\n",
    "\n",
    "ROOM_MARKER_X = {marker: x for marker, x in zip(ROOM_MARKERS, TARGET_ROOM_X)}\n",
    "ROOM_MARKER_IDX = {marker: idx for marker, idx in zip(ROOM_MARKERS, range(4))}\n",
    "\n",
    "HALLWAY_MARKER = \"H\"\n",
    "\n",
    "TERMINAL_PT1 = tuple(tuple(ROOM_MARKERS[i] for _ in range(2)) for i in range(4))\n",
    "TERMINAL_PT2 = tuple(tuple(ROOM_MARKERS[i] for _ in range(4)) for i in range(4))\n",
    "EMPTY_HALLWAY = tuple(None for _ in range(11))\n",
    "\n",
    "COST_MAP = {(EMPTY_HALLWAY, TERMINAL_PT1): 0, (EMPTY_HALLWAY, TERMINAL_PT2): 0}\n",
    "BEST_MOVES = {}\n",
    "\n",
    "\n",
    "def moveable_pods(hallway, rooms):\n",
    "    moveable = []\n",
    "    # only move from room to hallway or hallway to room\n",
    "    for k, v in enumerate(hallway):\n",
    "        if v is None:\n",
    "            continue\n",
    "        target_room = rooms[ROOM_MARKER_IDX[v]]\n",
    "        if not can_enter(target_room, v):\n",
    "            continue\n",
    "        tgt = ROOM_MARKER_X[v]\n",
    "        if tgt > k and not hallway_blocked(k + 1, tgt, hallway):\n",
    "            moveable.append((HALLWAY_MARKER, k, v))\n",
    "        elif tgt < k and not hallway_blocked(tgt, k - 1, hallway):\n",
    "            moveable.append((HALLWAY_MARKER, k, v))\n",
    "    # Always do a hallway move if possible\n",
    "    if moveable:\n",
    "        return moveable\n",
    "    for i, room in enumerate(rooms):\n",
    "        room_x = TARGET_ROOM_X[i]\n",
    "        if hallway[room_x - 1] is not None and hallway[room_x + 1] is not None:\n",
    "            continue\n",
    "        if all(pod is None or pod == ROOM_MARKERS[i] for pod in room):\n",
    "            # If this room can be filled, then nobody needs to leave\n",
    "            continue\n",
    "        idx, pod = first_pod_in_room(room)\n",
    "        moveable.append((i, idx, pod))\n",
    "    return moveable\n",
    "\n",
    "\n",
    "def hallway_blocked(p1, p2, hallway):\n",
    "    s = min(p1, p2)\n",
    "    d = max(p1, p2)\n",
    "    return any(hallway[k] is not None for k in range(s, d + 1))\n",
    "\n",
    "\n",
    "def can_enter(room, room_marker):\n",
    "    return all(pod is None or pod == room_marker for pod in room) and any(\n",
    "        pod is None for pod in room\n",
    "    )\n",
    "\n",
    "\n",
    "def first_pod_in_room(room):\n",
    "    for i in range(len(room)):\n",
    "        if room[i] != None:\n",
    "            return i + 1, room[i]\n",
    "    return None, None\n",
    "\n",
    "\n",
    "def move_candidates(pod, hallway, rooms):\n",
    "    # Returns list of all places a pod can move to, and how many steps it would take to get there\n",
    "    pos_marker, idx, room_marker = pod\n",
    "    room_idx = ROOM_MARKER_IDX[room_marker]\n",
    "    if pos_marker == HALLWAY_MARKER:\n",
    "        room = rooms[room_idx]\n",
    "        room_x = TARGET_ROOM_X[room_idx]\n",
    "        if can_enter(rooms[room_idx], room_marker):\n",
    "            room_steps = max(i + 1 for i in range(len(room)) if room[i] is None)\n",
    "            dist_to_room = abs(idx - TARGET_ROOM_X[room_idx])\n",
    "            return [(room_idx, room_steps, (dist_to_room + room_steps))]\n",
    "        else:\n",
    "            return []\n",
    "    else:\n",
    "        # If currently in a room, make sure it's not the room we want to be in\n",
    "        if pos_marker == room_idx and can_enter(rooms[room_idx], room_marker):\n",
    "            return []\n",
    "\n",
    "        possible_hallway_locs = []\n",
    "        room_x = TARGET_ROOM_X[pos_marker]\n",
    "        for k in ALLOWED_HALL_SPOTS:\n",
    "            if hallway_blocked(room_x, k, hallway):\n",
    "                if k > room_x:\n",
    "                    break\n",
    "                else:\n",
    "                    continue\n",
    "            dist_to_hall_pos = abs(room_x - k)\n",
    "            possible_hallway_locs.append((HALLWAY_MARKER, k, idx + dist_to_hall_pos))\n",
    "        return possible_hallway_locs\n",
    "\n",
    "\n",
    "def move(hallway, rooms):\n",
    "    if COST_MAP.get((hallway, rooms)) is not None:\n",
    "        return COST_MAP.get((hallway, rooms))\n",
    "    moveable = moveable_pods(hallway, rooms)\n",
    "    if DEBUG:\n",
    "        print(hallway, \"\\n\", rooms, \"\\n\", moveable)\n",
    "\n",
    "    best_cost = float(\"inf\")\n",
    "    best_move = None\n",
    "    for pod in moveable:\n",
    "        pos_marker, pos_index, pod_marker = pod\n",
    "        new_hallway = None\n",
    "        new_rooms = None\n",
    "        if pos_marker == HALLWAY_MARKER:\n",
    "            assert pos_index in ALLOWED_HALL_SPOTS\n",
    "            assert hallway[pos_index] == pod_marker\n",
    "            new_hallway = utils.tuple_replace(hallway, pos_index, None)\n",
    "        else:\n",
    "            assert rooms[pos_marker][pos_index - 1] == pod_marker\n",
    "            new_room = utils.tuple_replace(rooms[pos_marker], pos_index - 1, None)\n",
    "            new_rooms = utils.tuple_replace(rooms, pos_marker, new_room)\n",
    "        dest_candidates = move_candidates(pod, hallway, rooms)\n",
    "        for dest in dest_candidates:\n",
    "            dest_marker, dest_pos, steps_taken = dest\n",
    "            if dest_marker == HALLWAY_MARKER:\n",
    "                assert dest_pos in ALLOWED_HALL_SPOTS\n",
    "                assert hallway[dest_pos] is None, (hallway, dest_pos)\n",
    "                new_hallway = utils.tuple_replace(hallway, dest_pos, pod_marker)\n",
    "            else:\n",
    "                assert rooms[dest_marker][dest_pos - 1] is None, (rooms, dest)\n",
    "                new_room = utils.tuple_replace(\n",
    "                    rooms[dest_marker], dest_pos - 1, pod_marker\n",
    "                )\n",
    "                new_rooms = utils.tuple_replace(rooms, dest_marker, new_room)\n",
    "\n",
    "            new_cost = move(new_hallway, new_rooms)\n",
    "            move_cost = (COSTS[pod_marker] * steps_taken) + new_cost\n",
    "            if move_cost < best_cost:\n",
    "                best_move = (new_hallway, new_rooms)\n",
    "                best_cost = move_cost\n",
    "    COST_MAP[(hallway, rooms)] = best_cost\n",
    "    if best_move is not None:\n",
    "        BEST_MOVES[(hallway, rooms)] = best_move\n",
    "    return best_cost\n",
    "\n",
    "\n",
    "def unfold_rooms(rooms):\n",
    "    ROOM_MIDDLE = [(\"D\", \"D\"), (\"C\", \"B\"), (\"B\", \"A\"), (\"A\", \"C\")]\n",
    "    new_rooms = tuple(\n",
    "        (tup[0], ROOM_MIDDLE[i][0], ROOM_MIDDLE[i][1], tup[1])\n",
    "        for i, tup in enumerate(rooms)\n",
    "    )\n",
    "    return new_rooms\n",
    "\n",
    "\n",
    "def compact(state, cost):\n",
    "    hallway, rooms = state\n",
    "    hallway_str = \"\".join(\" \" if v is None else v for v in hallway)\n",
    "    room_str = \"][\".join(\n",
    "        \"\".join(\" \" if v is None else v for v in room) for room in rooms\n",
    "    )\n",
    "    return hallway_str, f\"[{room_str}]\", cost\n",
    "\n",
    "\n",
    "def print_moves(hallway, rooms):\n",
    "    state = (hallway, rooms)\n",
    "    buf = []\n",
    "    while True:\n",
    "        buf.append(compact(state, COST_MAP[state]))\n",
    "        state = BEST_MOVES.get(state)\n",
    "        if state is None:\n",
    "            break\n",
    "    for mov in buf:\n",
    "        print(mov)\n",
    "\n",
    "\n",
    "input_data = utils.get_input(day=23).strip().split(\"\\n\")\n",
    "parsed = [row[3:].strip().split(\"#\", maxsplit=3) for row in input_data[2:4]]\n",
    "\n",
    "print(\"Part 1\")\n",
    "rooms = tuple(tuple(j[i][0] for j in parsed) for i in range(4))\n",
    "print(move(EMPTY_HALLWAY, rooms))\n",
    "print_moves(EMPTY_HALLWAY, rooms)\n",
    "print(\"*\" * 80)\n",
    "\n",
    "print(\"Part 2\")\n",
    "unfolded_rooms = unfold_rooms(rooms)\n",
    "print(move(EMPTY_HALLWAY, unfolded_rooms))\n",
    "print_moves(EMPTY_HALLWAY, unfolded_rooms)\n"
   ]
  },
  {
   "cell_type": "code",
   "execution_count": null,
   "metadata": {},
   "outputs": [],
   "source": []
  }
 ],
 "metadata": {
  "interpreter": {
   "hash": "6d46af94c2bbce495f1e668725902fa517c90b1782bcfe2fce0dd9868df553d3"
  },
  "kernelspec": {
   "display_name": "Python 3.8.12 64-bit ('base': conda)",
   "language": "python",
   "name": "python3"
  },
  "language_info": {
   "codemirror_mode": {
    "name": "ipython",
    "version": 3
   },
   "file_extension": ".py",
   "mimetype": "text/x-python",
   "name": "python",
   "nbconvert_exporter": "python",
   "pygments_lexer": "ipython3",
   "version": "3.9.7"
  },
  "orig_nbformat": 4
 },
 "nbformat": 4,
 "nbformat_minor": 2
}
