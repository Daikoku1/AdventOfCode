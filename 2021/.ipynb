{
 "cells": [
  {
   "cell_type": "code",
   "execution_count": 14,
   "metadata": {},
   "outputs": [],
   "source": [
    "from pathlib import Path\n",
    "from itertools import product\n",
    "from collections import Counter, defaultdict\n",
    "path = Path.cwd() / 'input' / 'day22.txt'\n",
    "data = open(path).read().strip().split('\\n')"
   ]
  },
  {
   "cell_type": "code",
   "execution_count": 15,
   "metadata": {},
   "outputs": [
    {
     "data": {
      "text/plain": [
       "'on x=-3..43,y=-28..22,z=-6..38'"
      ]
     },
     "execution_count": 15,
     "metadata": {},
     "output_type": "execute_result"
    }
   ],
   "source": [
    "data[0]"
   ]
  },
  {
   "cell_type": "code",
   "execution_count": 17,
   "metadata": {},
   "outputs": [],
   "source": [
    "min_x, max_x = float('inf'), float('-inf')\n",
    "min_y, max_y = float('inf'), float('-inf')\n",
    "min_z, max_z = float('inf'), float('-inf')\n",
    "\n",
    "X, Y, Z = set(), set(), set() # split boundary\n",
    "arr = [] # data\n",
    "for d in data:\n",
    "    cmd, points = d.split(' ')\n",
    "    cmd = cmd.strip()\n",
    "    points = points.split(',')\n",
    "    x1, x2 = map(int, points[0].split('=')[1].split('..'))\n",
    "    y1, y2 = map(int, points[1].split('=')[1].split('..'))\n",
    "    z1, z2 = map(int, points[2].split('=')[1].split('..'))\n",
    "\n",
    "    arr.append((cmd == 'on', x1,x2,y1,y2,z1,z2))\n",
    "    if cmd == 'on':\n",
    "        min_x, max_x = min(min_x, x1), max(max_x, x2)\n",
    "        min_y, max_y = min(min_y, y1), max(max_y, y2)\n",
    "        min_z, max_z = min(min_z, z1), max(max_z, z2)\n",
    "    \n",
    "    X.add(x1)\n",
    "    X.add(x2+1)\n",
    "    Y.add(y1)\n",
    "    Y.add(y2+1)\n",
    "    Z.add(z1)\n",
    "    Z.add(z2+1)"
   ]
  },
  {
   "cell_type": "code",
   "execution_count": 21,
   "metadata": {},
   "outputs": [
    {
     "data": {
      "text/plain": [
       "{1, 2, 3, 5}"
      ]
     },
     "execution_count": 21,
     "metadata": {},
     "output_type": "execute_result"
    }
   ],
   "source": [
    "t = set()\n",
    "t.add(2)\n",
    "t.add(5)\n",
    "t.add(1)\n",
    "t.add(3)\n",
    "t"
   ]
  },
  {
   "cell_type": "code",
   "execution_count": 22,
   "metadata": {},
   "outputs": [
    {
     "name": "stdout",
     "output_type": "stream",
     "text": [
      "1\n",
      "2\n",
      "3\n",
      "5\n"
     ]
    }
   ],
   "source": [
    "for i in t: \n",
    "    print(i)"
   ]
  },
  {
   "cell_type": "code",
   "execution_count": 19,
   "metadata": {},
   "outputs": [
    {
     "data": {
      "text/plain": [
       "[1, 2, 3, 5]"
      ]
     },
     "execution_count": 19,
     "metadata": {},
     "output_type": "execute_result"
    }
   ],
   "source": [
    "sorted(t)"
   ]
  },
  {
   "cell_type": "code",
   "execution_count": null,
   "metadata": {},
   "outputs": [],
   "source": [
    "\n",
    "def idx_num_pair(A):\n",
    "    for i in A:\n",
    "        "
   ]
  },
  {
   "cell_type": "code",
   "execution_count": 5,
   "metadata": {},
   "outputs": [],
   "source": [
    "data = '''\n",
    "on x=10..12,y=10..12,z=10..12\n",
    "on x=11..13,y=11..13,z=11..13\n",
    "off x=9..11,y=9..11,z=9..11\n",
    "on x=10..10,y=10..10,z=10..10\n",
    "'''.strip().split('\\n')"
   ]
  },
  {
   "cell_type": "code",
   "execution_count": 8,
   "metadata": {},
   "outputs": [],
   "source": [
    "import sys\n",
    "import heapq\n",
    "import itertools\n",
    "import re\n",
    "import ast\n",
    "from collections import defaultdict, Counter, deque"
   ]
  },
  {
   "cell_type": "code",
   "execution_count": 13,
   "metadata": {},
   "outputs": [
    {
     "name": "stdout",
     "output_type": "stream",
     "text": [
      "---------\n",
      "10 12 10 12 10 12\n",
      "{10, 13} {10, 13} {10, 13}\n",
      "---------\n",
      "11 13 11 13 11 13\n",
      "{10, 11, 13, 14} {10, 11, 13, 14} {10, 11, 13, 14}\n",
      "---------\n",
      "9 11 9 11 9 11\n",
      "{9, 10, 11, 12, 13, 14} {9, 10, 11, 12, 13, 14} {9, 10, 11, 12, 13, 14}\n",
      "---------\n",
      "10 10 10 10 10 10\n",
      "{9, 10, 11, 12, 13, 14} {9, 10, 11, 12, 13, 14} {9, 10, 11, 12, 13, 14}\n",
      "{9, 10, 11, 12, 13, 14} {9, 10, 11, 12, 13, 14} {9, 10, 11, 12, 13, 14}\n",
      "---expand----\n",
      "{9, 10, 11, 12, 13, 14, -50, 51}\n",
      "[-50, 9, 10, 11, 12, 13, 14, 51]\n",
      "---expand----\n",
      "{9, 10, 11, 12, 13, 14, -50, 51}\n",
      "[-50, 9, 10, 11, 12, 13, 14, 51]\n",
      "---expand----\n",
      "{9, 10, 11, 12, 13, 14, -50, 51}\n",
      "[-50, 9, 10, 11, 12, 13, 14, 51]\n"
     ]
    }
   ],
   "source": [
    "# [1 10] [11 20] [21 100]\n",
    "X = set()\n",
    "Y = set()\n",
    "Z = set()\n",
    "C = []\n",
    "min_x = 0\n",
    "min_y = 0\n",
    "min_z = 0\n",
    "max_x = 0\n",
    "max_y = 0\n",
    "max_z = 0\n",
    "G = set()\n",
    "for r,line in enumerate(data):\n",
    "  assert line == line.strip()\n",
    "  words = line.split()\n",
    "  cmd = words[0]\n",
    "  x1,x2,y1,y2,z1,z2 = [int(x) for x in re.findall('-?\\d+', words[1])]\n",
    "  x1,x2 = min(x1, x2), max(x1,x2)\n",
    "  y1,y2 = min(y1, y2), max(y1,y2)\n",
    "  z1,z2 = min(z1, z2), max(z1,z2)\n",
    "  print('---------')\n",
    "  print(x1,x2,y1,y2,z1,z2)\n",
    "  X.add(x1)\n",
    "  X.add(x2+1)\n",
    "  Y.add(y1)\n",
    "  Y.add(y2+1)\n",
    "  Z.add(z1)\n",
    "  Z.add(z2+1)\n",
    "  print(X, Y, Z)\n",
    "  min_x = min(x1, min_x)\n",
    "  min_y = min(y1, min_y)\n",
    "  min_z = min(z1, min_z)\n",
    "  max_x = max(x2, max_x)\n",
    "  max_y = max(y2, max_y)\n",
    "  max_z = max(z2, max_z)\n",
    "  C.append((x1,x2,y1,y2,z1,z2,cmd=='on'))\n",
    "\n",
    "print(X, Y, Z)\n",
    "def expand(A):\n",
    "  print('---expand----')\n",
    "  B = set()\n",
    "  for x in A:\n",
    "    B.add(x)\n",
    "  B = sorted(B)\n",
    "  print(A)\n",
    "  print(B)\n",
    "  ret = {}\n",
    "  U = {}\n",
    "  len_sum = 0\n",
    "  for i,x in enumerate(B):\n",
    "    ret[x] = i\n",
    "    if i+1 < len(B):\n",
    "      len_ = B[i+1]-x if i+1<len(B) else None\n",
    "      len_sum += len_\n",
    "      U[i] = len_\n",
    "  for a in A:\n",
    "    assert a in ret\n",
    "  assert len_sum == max(B)-min(B), f'{len_sum} {max(B)-min(B)}'\n",
    "  return (ret, U)\n",
    "\n",
    "X.add(-50)\n",
    "X.add(51)\n",
    "Y.add(-50)\n",
    "Y.add(51)\n",
    "Z.add(-50)\n",
    "Z.add(51)\n",
    "\n",
    "X,UX = expand(X)\n",
    "Y,UY = expand(Y)\n",
    "Z,UZ = expand(Z)"
   ]
  },
  {
   "cell_type": "code",
   "execution_count": 10,
   "metadata": {},
   "outputs": [
    {
     "data": {
      "text/plain": [
       "({-50: 0, 9: 1, 10: 2, 11: 3, 12: 4, 13: 5, 14: 6, 51: 7},\n",
       " {0: 59, 1: 1, 2: 1, 3: 1, 4: 1, 5: 1, 6: 37})"
      ]
     },
     "execution_count": 10,
     "metadata": {},
     "output_type": "execute_result"
    }
   ],
   "source": [
    "X, UX"
   ]
  },
  {
   "cell_type": "code",
   "execution_count": null,
   "metadata": {},
   "outputs": [],
   "source": [
    "#print(len(X), len(Y), len(Z))\n",
    "\n",
    "def solve(p1):\n",
    "  G = set()\n",
    "  for t,(x1,x2,y1,y2,z1,z2,on) in enumerate(C):\n",
    "    #print(t,len(C))\n",
    "    if p1:\n",
    "      x1 = max(x1, -50)\n",
    "      y1 = max(y1, -50)\n",
    "      z1 = max(z1, -50)\n",
    "      \n",
    "      x2 = min(x2, 50)\n",
    "      y2 = min(y2, 50)\n",
    "      z2 = min(z2, 50)\n",
    "    for x in range(X[x1], X[x2+1]):\n",
    "      for y in range(Y[y1], Y[y2+1]):\n",
    "        for z in range(Z[z1], Z[z2+1]):\n",
    "          #print(x,y,z,UX[x],UY[y],UZ[z])\n",
    "          if on:\n",
    "            G.add((x,y,z))\n",
    "          else:\n",
    "            G.discard((x,y,z))\n",
    "\n",
    "  ans = 0\n",
    "  for x,y,z in G:\n",
    "    lx = UX[x]\n",
    "    ly = UY[y]\n",
    "    lz = UZ[z]\n",
    "    ans += lx*ly*lz\n",
    "  return ans\n",
    "\n",
    "print(solve(True))\n",
    "print(solve(False))"
   ]
  }
 ],
 "metadata": {
  "interpreter": {
   "hash": "6d46af94c2bbce495f1e668725902fa517c90b1782bcfe2fce0dd9868df553d3"
  },
  "kernelspec": {
   "display_name": "Python 3.8.12 64-bit ('base': conda)",
   "language": "python",
   "name": "python3"
  },
  "language_info": {
   "codemirror_mode": {
    "name": "ipython",
    "version": 3
   },
   "file_extension": ".py",
   "mimetype": "text/x-python",
   "name": "python",
   "nbconvert_exporter": "python",
   "pygments_lexer": "ipython3",
   "version": "3.8.12"
  },
  "orig_nbformat": 4
 },
 "nbformat": 4,
 "nbformat_minor": 2
}
