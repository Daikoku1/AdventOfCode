{
 "cells": [
  {
   "cell_type": "code",
   "execution_count": 1,
   "metadata": {},
   "outputs": [
    {
     "data": {
      "text/plain": [
       "3969000"
      ]
     },
     "execution_count": 1,
     "metadata": {},
     "output_type": "execute_result"
    }
   ],
   "source": [
    "from collections import Counter\n",
    "def solution1():\n",
    "    f = open('./input/day3.txt', 'r')\n",
    "    lines = f.readlines()\n",
    "    T = len(lines) // 2\n",
    "    gamma = ''\n",
    "    epsilon = ''\n",
    "    for i in zip(*map(lambda x : x.strip(), lines)):\n",
    "        if Counter(i)['0'] > T : \n",
    "            gamma += '0'\n",
    "            epsilon += '1'\n",
    "        else:\n",
    "            gamma += '1'\n",
    "            epsilon += '0'\n",
    "    return int(gamma, 2) * int(epsilon, 2)\n",
    "\n",
    "solution1()"
   ]
  },
  {
   "cell_type": "code",
   "execution_count": 2,
   "metadata": {},
   "outputs": [
    {
     "data": {
      "text/plain": [
       "4267809"
      ]
     },
     "execution_count": 2,
     "metadata": {},
     "output_type": "execute_result"
    }
   ],
   "source": [
    "def check(i, li):\n",
    "    ones, zeros = [], []\n",
    "    for l in li:\n",
    "        if l[i] == '1' : ones.append(l)\n",
    "        else: zeros.append(l)\n",
    "    return ones, zeros\n",
    "\n",
    "def solution2():\n",
    "    f = open('./input/day3.txt', 'r')\n",
    "    lines = f.readlines()\n",
    "    lines = list(map(lambda x : x.strip(), lines))\n",
    "\n",
    "    ones, zeros = check(0, lines)\n",
    "    \n",
    "    if len(ones) >= len(zeros):\n",
    "        oxygen = ones.copy()\n",
    "        co2 = zeros.copy()\n",
    "    else:\n",
    "        oxygen = zeros.copy()\n",
    "        co2 = ones.copy()\n",
    "    \n",
    "    idx = 1\n",
    "    while len(oxygen) != 1:\n",
    "        ones, zeros = check(idx, oxygen)\n",
    "        if len(ones) >= len(zeros) : oxygen = ones.copy()\n",
    "        else: oxygen = zeros.copy()\n",
    "        idx += 1\n",
    "    \n",
    "    idx = 1\n",
    "    while len(co2) != 1:\n",
    "        ones, zeros = check(idx, co2)\n",
    "        if len(ones) >= len(zeros) : co2 = zeros.copy()\n",
    "        else: co2 = ones.copy()\n",
    "        idx += 1\n",
    "\n",
    "    return int(oxygen[0], 2) * int(co2[0], 2)\n",
    "\n",
    "solution2()"
   ]
  }
 ],
 "metadata": {
  "interpreter": {
   "hash": "9652531e86fbc99dfe7fc5092eb81081a97fad237de3d1fd3b3a0d1c69c61538"
  },
  "kernelspec": {
   "display_name": "Python 3.9.7 64-bit ('ox': conda)",
   "language": "python",
   "name": "python3"
  },
  "language_info": {
   "codemirror_mode": {
    "name": "ipython",
    "version": 3
   },
   "file_extension": ".py",
   "mimetype": "text/x-python",
   "name": "python",
   "nbconvert_exporter": "python",
   "pygments_lexer": "ipython3",
   "version": "3.9.7"
  },
  "orig_nbformat": 4
 },
 "nbformat": 4,
 "nbformat_minor": 2
}
